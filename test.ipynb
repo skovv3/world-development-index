{
 "cells": [
  {
   "cell_type": "code",
   "execution_count": 6,
   "metadata": {
    "collapsed": true
   },
   "outputs": [],
   "source": [
    "import pandas as pd\n",
    "from sklearn.preprocessing import StandardScaler\n",
    "from sklearn.metrics import mean_squared_error\n",
    "from sklearn.metrics import r2_score\n",
    "from sklearn.linear_model import LinearRegression\n",
    "from sklearn.cross_validation import train_test_split"
   ]
  },
  {
   "cell_type": "code",
   "execution_count": 7,
   "metadata": {
    "collapsed": false
   },
   "outputs": [],
   "source": [
    "X_train = pd.read_csv(\"midterm_train.csv\", dtype=str)\n",
    "X_train.drop(['Interest_Rate'], axis=1, inplace=True)"
   ]
  },
  {
   "cell_type": "code",
   "execution_count": 9,
   "metadata": {
    "collapsed": true
   },
   "outputs": [],
   "source": [
    "variables = ['Borrower_ID', u'Sub_Loan_Grade', u'Employer', u'Length_Employed', u'Home_Owner?',\n",
    "       u'Annual_Income', u'Income_Verified', u'Month_Issued',\n",
    "       u'Current_Status', u'Payment_Plan_Ind', u'Loan_Description',\n",
    "       u'Purpose_Of_Loan', u'Loan_Title', u'Zip_3', u'State',\n",
    "       u'Debt_To_Income', u'Number_Delinqueny_2yrs', u'Month_Earliest_Credit',\n",
    "       u'Inquiries_Last_6Mo', u'Months_Since_Deliquency',\n",
    "       u'Months_Since_Record', u'Number_Open_Accounts', u'Public_Record_Count',\n",
    "       u'Revolving_Balance', u'Revolving_Utilization', u'Total_Accounts',\n",
    "       u'Initial_Status', u'Outstanding_Principal',\n",
    "       u'Outstanding_Principal_Remaining', u'Total_Payment',\n",
    "       u'Total_Payment_Funded', u'Total_Received', u'Total_Received_Interest',\n",
    "       u'Total_Received_Late_Fees', u'Recoveries', u'Collection_Recovery_Fee',\n",
    "       u'Last_Payment_Received', u'Last_Payment_Total', u'Next_Payment_Date',\n",
    "       u'Last_Credit_Pulled', u'Collections_12Mo_Exclude_Med',\n",
    "       u'Months_Since_Last_Derogatory', u'Policy_Code']"
   ]
  },
  {
   "cell_type": "code",
   "execution_count": 10,
   "metadata": {
    "collapsed": true
   },
   "outputs": [],
   "source": [
    "X_train_df= pd.DataFrame()"
   ]
  },
  {
   "cell_type": "code",
   "execution_count": 11,
   "metadata": {
    "collapsed": true
   },
   "outputs": [],
   "source": [
    "X_test_df = pd.DataFrame()"
   ]
  },
  {
   "cell_type": "code",
   "execution_count": 12,
   "metadata": {
    "collapsed": true
   },
   "outputs": [],
   "source": [
    "X_train_df['Initial_Loan_Term_Months'] = X_train.Initial_Loan_Term_Months.str.strip().str.replace(' months','')\n",
    "X_test_df['Initial_Loan_Term_Months'] = X_test.Initial_Loan_Term_Months.str.strip().str.replace(' months','')"
   ]
  },
  {
   "cell_type": "code",
   "execution_count": 13,
   "metadata": {
    "collapsed": false
   },
   "outputs": [
    {
     "name": "stdout",
     "output_type": "stream",
     "text": [
      "        Initial_Loan_Term_Months_36  Initial_Loan_Term_Months_60\n",
      "0                                 1                            0\n",
      "1                                 1                            0\n",
      "2                                 1                            0\n",
      "3                                 1                            0\n",
      "4                                 1                            0\n",
      "5                                 1                            0\n",
      "6                                 1                            0\n",
      "7                                 1                            0\n",
      "8                                 1                            0\n",
      "9                                 1                            0\n",
      "10                                1                            0\n",
      "11                                1                            0\n",
      "12                                1                            0\n",
      "13                                1                            0\n",
      "14                                1                            0\n",
      "15                                1                            0\n",
      "16                                1                            0\n",
      "17                                1                            0\n",
      "18                                1                            0\n",
      "19                                1                            0\n",
      "20                                1                            0\n",
      "21                                0                            1\n",
      "22                                1                            0\n",
      "23                                1                            0\n",
      "24                                1                            0\n",
      "25                                1                            0\n",
      "26                                1                            0\n",
      "27                                1                            0\n",
      "28                                1                            0\n",
      "29                                1                            0\n",
      "...                             ...                          ...\n",
      "324447                            1                            0\n",
      "324448                            1                            0\n",
      "324449                            1                            0\n",
      "324450                            1                            0\n",
      "324451                            1                            0\n",
      "324452                            0                            1\n",
      "324453                            0                            1\n",
      "324454                            1                            0\n",
      "324455                            1                            0\n",
      "324456                            1                            0\n",
      "324457                            1                            0\n",
      "324458                            1                            0\n",
      "324459                            1                            0\n",
      "324460                            1                            0\n",
      "324461                            1                            0\n",
      "324462                            1                            0\n",
      "324463                            1                            0\n",
      "324464                            1                            0\n",
      "324465                            0                            1\n",
      "324466                            1                            0\n",
      "324467                            0                            1\n",
      "324468                            1                            0\n",
      "324469                            1                            0\n",
      "324470                            1                            0\n",
      "324471                            0                            1\n",
      "324472                            1                            0\n",
      "324473                            1                            0\n",
      "324474                            1                            0\n",
      "324475                            0                            1\n",
      "324476                            0                            1\n",
      "\n",
      "[324477 rows x 2 columns]\n",
      "        Initial_Loan_Term_Months_36  Initial_Loan_Term_Months_60\n",
      "0                                 1                            0\n",
      "1                                 1                            0\n",
      "2                                 0                            1\n",
      "3                                 1                            0\n",
      "4                                 1                            0\n",
      "5                                 1                            0\n",
      "6                                 1                            0\n",
      "7                                 1                            0\n",
      "8                                 1                            0\n",
      "9                                 1                            0\n",
      "10                                1                            0\n",
      "11                                1                            0\n",
      "12                                0                            1\n",
      "13                                0                            1\n",
      "14                                1                            0\n",
      "15                                1                            0\n",
      "16                                0                            1\n",
      "17                                0                            1\n",
      "18                                1                            0\n",
      "19                                1                            0\n",
      "20                                1                            0\n",
      "21                                0                            1\n",
      "22                                1                            0\n",
      "23                                1                            0\n",
      "24                                1                            0\n",
      "25                                0                            1\n",
      "26                                1                            0\n",
      "27                                1                            0\n",
      "28                                1                            0\n",
      "29                                1                            0\n",
      "...                             ...                          ...\n",
      "117957                            1                            0\n",
      "117958                            1                            0\n",
      "117959                            1                            0\n",
      "117960                            0                            1\n",
      "117961                            1                            0\n",
      "117962                            1                            0\n",
      "117963                            1                            0\n",
      "117964                            1                            0\n",
      "117965                            1                            0\n",
      "117966                            0                            1\n",
      "117967                            1                            0\n",
      "117968                            1                            0\n",
      "117969                            1                            0\n",
      "117970                            1                            0\n",
      "117971                            1                            0\n",
      "117972                            1                            0\n",
      "117973                            1                            0\n",
      "117974                            1                            0\n",
      "117975                            1                            0\n",
      "117976                            1                            0\n",
      "117977                            1                            0\n",
      "117978                            1                            0\n",
      "117979                            1                            0\n",
      "117980                            1                            0\n",
      "117981                            1                            0\n",
      "117982                            1                            0\n",
      "117983                            1                            0\n",
      "117984                            1                            0\n",
      "117985                            0                            1\n",
      "117986                            1                            0\n",
      "\n",
      "[117987 rows x 2 columns]\n"
     ]
    }
   ],
   "source": [
    "X_train_df['Initial_Loan_Term_Months'] = X_train_df['Initial_Loan_Term_Months']\n",
    "#Fill Missing Values\n",
    "X_train_df['Initial_Loan_Term_Months'].fillna(\"Missing\", inplace=True)\n",
    "#Create dummy array\n",
    "dummies = pd.get_dummies(X_train_df['Initial_Loan_Term_Months'], prefix='Initial_Loan_Term_Months')\n",
    "print dummies\n",
    "X_train_df = pd.concat([X_train_df, dummies], axis=1)\n",
    "\n",
    "X_test_df['Initial_Loan_Term_Months'] = X_test_df['Initial_Loan_Term_Months']\n",
    "#Fill Missing Values\n",
    "X_test_df['Initial_Loan_Term_Months'].fillna(\"Missing\", inplace=True)\n",
    "#Create dummy array\n",
    "dummies = pd.get_dummies(X_test_df['Initial_Loan_Term_Months'], prefix='Initial_Loan_Term_Months')\n",
    "print dummies\n",
    "X_test_df = pd.concat([X_test_df, dummies], axis=1)"
   ]
  },
  {
   "cell_type": "code",
   "execution_count": 14,
   "metadata": {
    "collapsed": false
   },
   "outputs": [
    {
     "data": {
      "text/plain": [
       "array(['36', '60'], dtype=object)"
      ]
     },
     "execution_count": 14,
     "metadata": {},
     "output_type": "execute_result"
    }
   ],
   "source": [
    "X_train_df['Initial_Loan_Term_Months'].unique()\n",
    "X_test_df['Initial_Loan_Term_Months'].unique()"
   ]
  },
  {
   "cell_type": "code",
   "execution_count": 15,
   "metadata": {
    "collapsed": false
   },
   "outputs": [
    {
     "ename": "KeyError",
     "evalue": "'Interest_Rate'",
     "output_type": "error",
     "traceback": [
      "\u001b[1;31m---------------------------------------------------------------------------\u001b[0m",
      "\u001b[1;31mKeyError\u001b[0m                                  Traceback (most recent call last)",
      "\u001b[1;32m<ipython-input-15-7fc964acbdc6>\u001b[0m in \u001b[0;36m<module>\u001b[1;34m()\u001b[0m\n\u001b[1;32m----> 1\u001b[1;33m \u001b[0mX_train_df\u001b[0m\u001b[1;33m[\u001b[0m\u001b[1;34m'Interest_Rate'\u001b[0m\u001b[1;33m]\u001b[0m \u001b[1;33m=\u001b[0m \u001b[0mX_train\u001b[0m\u001b[1;33m.\u001b[0m\u001b[0mpop\u001b[0m\u001b[1;33m(\u001b[0m\u001b[1;34m'Interest_Rate'\u001b[0m\u001b[1;33m)\u001b[0m\u001b[1;33m\u001b[0m\u001b[0m\n\u001b[0m",
      "\u001b[1;32mC:\\Anaconda2\\lib\\site-packages\\pandas\\core\\generic.pyc\u001b[0m in \u001b[0;36mpop\u001b[1;34m(self, item)\u001b[0m\n\u001b[0;32m    503\u001b[0m         \u001b[0mReturn\u001b[0m \u001b[0mitem\u001b[0m \u001b[1;32mand\u001b[0m \u001b[0mdrop\u001b[0m \u001b[1;32mfrom\u001b[0m \u001b[0mframe\u001b[0m\u001b[1;33m.\u001b[0m \u001b[0mRaise\u001b[0m \u001b[0mKeyError\u001b[0m \u001b[1;32mif\u001b[0m \u001b[1;32mnot\u001b[0m \u001b[0mfound\u001b[0m\u001b[1;33m.\u001b[0m\u001b[1;33m\u001b[0m\u001b[0m\n\u001b[0;32m    504\u001b[0m         \"\"\"\n\u001b[1;32m--> 505\u001b[1;33m         \u001b[0mresult\u001b[0m \u001b[1;33m=\u001b[0m \u001b[0mself\u001b[0m\u001b[1;33m[\u001b[0m\u001b[0mitem\u001b[0m\u001b[1;33m]\u001b[0m\u001b[1;33m\u001b[0m\u001b[0m\n\u001b[0m\u001b[0;32m    506\u001b[0m         \u001b[1;32mdel\u001b[0m \u001b[0mself\u001b[0m\u001b[1;33m[\u001b[0m\u001b[0mitem\u001b[0m\u001b[1;33m]\u001b[0m\u001b[1;33m\u001b[0m\u001b[0m\n\u001b[0;32m    507\u001b[0m         \u001b[1;32mtry\u001b[0m\u001b[1;33m:\u001b[0m\u001b[1;33m\u001b[0m\u001b[0m\n",
      "\u001b[1;32mC:\\Anaconda2\\lib\\site-packages\\pandas\\core\\frame.pyc\u001b[0m in \u001b[0;36m__getitem__\u001b[1;34m(self, key)\u001b[0m\n\u001b[0;32m   1967\u001b[0m             \u001b[1;32mreturn\u001b[0m \u001b[0mself\u001b[0m\u001b[1;33m.\u001b[0m\u001b[0m_getitem_multilevel\u001b[0m\u001b[1;33m(\u001b[0m\u001b[0mkey\u001b[0m\u001b[1;33m)\u001b[0m\u001b[1;33m\u001b[0m\u001b[0m\n\u001b[0;32m   1968\u001b[0m         \u001b[1;32melse\u001b[0m\u001b[1;33m:\u001b[0m\u001b[1;33m\u001b[0m\u001b[0m\n\u001b[1;32m-> 1969\u001b[1;33m             \u001b[1;32mreturn\u001b[0m \u001b[0mself\u001b[0m\u001b[1;33m.\u001b[0m\u001b[0m_getitem_column\u001b[0m\u001b[1;33m(\u001b[0m\u001b[0mkey\u001b[0m\u001b[1;33m)\u001b[0m\u001b[1;33m\u001b[0m\u001b[0m\n\u001b[0m\u001b[0;32m   1970\u001b[0m \u001b[1;33m\u001b[0m\u001b[0m\n\u001b[0;32m   1971\u001b[0m     \u001b[1;32mdef\u001b[0m \u001b[0m_getitem_column\u001b[0m\u001b[1;33m(\u001b[0m\u001b[0mself\u001b[0m\u001b[1;33m,\u001b[0m \u001b[0mkey\u001b[0m\u001b[1;33m)\u001b[0m\u001b[1;33m:\u001b[0m\u001b[1;33m\u001b[0m\u001b[0m\n",
      "\u001b[1;32mC:\\Anaconda2\\lib\\site-packages\\pandas\\core\\frame.pyc\u001b[0m in \u001b[0;36m_getitem_column\u001b[1;34m(self, key)\u001b[0m\n\u001b[0;32m   1974\u001b[0m         \u001b[1;31m# get column\u001b[0m\u001b[1;33m\u001b[0m\u001b[1;33m\u001b[0m\u001b[0m\n\u001b[0;32m   1975\u001b[0m         \u001b[1;32mif\u001b[0m \u001b[0mself\u001b[0m\u001b[1;33m.\u001b[0m\u001b[0mcolumns\u001b[0m\u001b[1;33m.\u001b[0m\u001b[0mis_unique\u001b[0m\u001b[1;33m:\u001b[0m\u001b[1;33m\u001b[0m\u001b[0m\n\u001b[1;32m-> 1976\u001b[1;33m             \u001b[1;32mreturn\u001b[0m \u001b[0mself\u001b[0m\u001b[1;33m.\u001b[0m\u001b[0m_get_item_cache\u001b[0m\u001b[1;33m(\u001b[0m\u001b[0mkey\u001b[0m\u001b[1;33m)\u001b[0m\u001b[1;33m\u001b[0m\u001b[0m\n\u001b[0m\u001b[0;32m   1977\u001b[0m \u001b[1;33m\u001b[0m\u001b[0m\n\u001b[0;32m   1978\u001b[0m         \u001b[1;31m# duplicate columns & possible reduce dimensionality\u001b[0m\u001b[1;33m\u001b[0m\u001b[1;33m\u001b[0m\u001b[0m\n",
      "\u001b[1;32mC:\\Anaconda2\\lib\\site-packages\\pandas\\core\\generic.pyc\u001b[0m in \u001b[0;36m_get_item_cache\u001b[1;34m(self, item)\u001b[0m\n\u001b[0;32m   1089\u001b[0m         \u001b[0mres\u001b[0m \u001b[1;33m=\u001b[0m \u001b[0mcache\u001b[0m\u001b[1;33m.\u001b[0m\u001b[0mget\u001b[0m\u001b[1;33m(\u001b[0m\u001b[0mitem\u001b[0m\u001b[1;33m)\u001b[0m\u001b[1;33m\u001b[0m\u001b[0m\n\u001b[0;32m   1090\u001b[0m         \u001b[1;32mif\u001b[0m \u001b[0mres\u001b[0m \u001b[1;32mis\u001b[0m \u001b[0mNone\u001b[0m\u001b[1;33m:\u001b[0m\u001b[1;33m\u001b[0m\u001b[0m\n\u001b[1;32m-> 1091\u001b[1;33m             \u001b[0mvalues\u001b[0m \u001b[1;33m=\u001b[0m \u001b[0mself\u001b[0m\u001b[1;33m.\u001b[0m\u001b[0m_data\u001b[0m\u001b[1;33m.\u001b[0m\u001b[0mget\u001b[0m\u001b[1;33m(\u001b[0m\u001b[0mitem\u001b[0m\u001b[1;33m)\u001b[0m\u001b[1;33m\u001b[0m\u001b[0m\n\u001b[0m\u001b[0;32m   1092\u001b[0m             \u001b[0mres\u001b[0m \u001b[1;33m=\u001b[0m \u001b[0mself\u001b[0m\u001b[1;33m.\u001b[0m\u001b[0m_box_item_values\u001b[0m\u001b[1;33m(\u001b[0m\u001b[0mitem\u001b[0m\u001b[1;33m,\u001b[0m \u001b[0mvalues\u001b[0m\u001b[1;33m)\u001b[0m\u001b[1;33m\u001b[0m\u001b[0m\n\u001b[0;32m   1093\u001b[0m             \u001b[0mcache\u001b[0m\u001b[1;33m[\u001b[0m\u001b[0mitem\u001b[0m\u001b[1;33m]\u001b[0m \u001b[1;33m=\u001b[0m \u001b[0mres\u001b[0m\u001b[1;33m\u001b[0m\u001b[0m\n",
      "\u001b[1;32mC:\\Anaconda2\\lib\\site-packages\\pandas\\core\\internals.pyc\u001b[0m in \u001b[0;36mget\u001b[1;34m(self, item, fastpath)\u001b[0m\n\u001b[0;32m   3209\u001b[0m \u001b[1;33m\u001b[0m\u001b[0m\n\u001b[0;32m   3210\u001b[0m             \u001b[1;32mif\u001b[0m \u001b[1;32mnot\u001b[0m \u001b[0misnull\u001b[0m\u001b[1;33m(\u001b[0m\u001b[0mitem\u001b[0m\u001b[1;33m)\u001b[0m\u001b[1;33m:\u001b[0m\u001b[1;33m\u001b[0m\u001b[0m\n\u001b[1;32m-> 3211\u001b[1;33m                 \u001b[0mloc\u001b[0m \u001b[1;33m=\u001b[0m \u001b[0mself\u001b[0m\u001b[1;33m.\u001b[0m\u001b[0mitems\u001b[0m\u001b[1;33m.\u001b[0m\u001b[0mget_loc\u001b[0m\u001b[1;33m(\u001b[0m\u001b[0mitem\u001b[0m\u001b[1;33m)\u001b[0m\u001b[1;33m\u001b[0m\u001b[0m\n\u001b[0m\u001b[0;32m   3212\u001b[0m             \u001b[1;32melse\u001b[0m\u001b[1;33m:\u001b[0m\u001b[1;33m\u001b[0m\u001b[0m\n\u001b[0;32m   3213\u001b[0m                 \u001b[0mindexer\u001b[0m \u001b[1;33m=\u001b[0m \u001b[0mnp\u001b[0m\u001b[1;33m.\u001b[0m\u001b[0marange\u001b[0m\u001b[1;33m(\u001b[0m\u001b[0mlen\u001b[0m\u001b[1;33m(\u001b[0m\u001b[0mself\u001b[0m\u001b[1;33m.\u001b[0m\u001b[0mitems\u001b[0m\u001b[1;33m)\u001b[0m\u001b[1;33m)\u001b[0m\u001b[1;33m[\u001b[0m\u001b[0misnull\u001b[0m\u001b[1;33m(\u001b[0m\u001b[0mself\u001b[0m\u001b[1;33m.\u001b[0m\u001b[0mitems\u001b[0m\u001b[1;33m)\u001b[0m\u001b[1;33m]\u001b[0m\u001b[1;33m\u001b[0m\u001b[0m\n",
      "\u001b[1;32mC:\\Anaconda2\\lib\\site-packages\\pandas\\core\\index.pyc\u001b[0m in \u001b[0;36mget_loc\u001b[1;34m(self, key, method, tolerance)\u001b[0m\n\u001b[0;32m   1757\u001b[0m                                  'backfill or nearest lookups')\n\u001b[0;32m   1758\u001b[0m             \u001b[0mkey\u001b[0m \u001b[1;33m=\u001b[0m \u001b[0m_values_from_object\u001b[0m\u001b[1;33m(\u001b[0m\u001b[0mkey\u001b[0m\u001b[1;33m)\u001b[0m\u001b[1;33m\u001b[0m\u001b[0m\n\u001b[1;32m-> 1759\u001b[1;33m             \u001b[1;32mreturn\u001b[0m \u001b[0mself\u001b[0m\u001b[1;33m.\u001b[0m\u001b[0m_engine\u001b[0m\u001b[1;33m.\u001b[0m\u001b[0mget_loc\u001b[0m\u001b[1;33m(\u001b[0m\u001b[0mkey\u001b[0m\u001b[1;33m)\u001b[0m\u001b[1;33m\u001b[0m\u001b[0m\n\u001b[0m\u001b[0;32m   1760\u001b[0m \u001b[1;33m\u001b[0m\u001b[0m\n\u001b[0;32m   1761\u001b[0m         indexer = self.get_indexer([key], method=method,\n",
      "\u001b[1;32mpandas\\index.pyx\u001b[0m in \u001b[0;36mpandas.index.IndexEngine.get_loc (pandas\\index.c:3979)\u001b[1;34m()\u001b[0m\n",
      "\u001b[1;32mpandas\\index.pyx\u001b[0m in \u001b[0;36mpandas.index.IndexEngine.get_loc (pandas\\index.c:3843)\u001b[1;34m()\u001b[0m\n",
      "\u001b[1;32mpandas\\hashtable.pyx\u001b[0m in \u001b[0;36mpandas.hashtable.PyObjectHashTable.get_item (pandas\\hashtable.c:12265)\u001b[1;34m()\u001b[0m\n",
      "\u001b[1;32mpandas\\hashtable.pyx\u001b[0m in \u001b[0;36mpandas.hashtable.PyObjectHashTable.get_item (pandas\\hashtable.c:12216)\u001b[1;34m()\u001b[0m\n",
      "\u001b[1;31mKeyError\u001b[0m: 'Interest_Rate'"
     ]
    }
   ],
   "source": [
    ")"
   ]
  },
  {
   "cell_type": "code",
   "execution_count": null,
   "metadata": {
    "collapsed": true
   },
   "outputs": [],
   "source": []
  }
 ],
 "metadata": {
  "kernelspec": {
   "display_name": "Python 2",
   "language": "python",
   "name": "python2"
  },
  "language_info": {
   "codemirror_mode": {
    "name": "ipython",
    "version": 2
   },
   "file_extension": ".py",
   "mimetype": "text/x-python",
   "name": "python",
   "nbconvert_exporter": "python",
   "pygments_lexer": "ipython2",
   "version": "2.7.11"
  }
 },
 "nbformat": 4,
 "nbformat_minor": 0
}
